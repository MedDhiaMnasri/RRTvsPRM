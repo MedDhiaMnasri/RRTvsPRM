{
 "cells": [
  {
   "cell_type": "markdown",
   "metadata": {},
   "source": [
    "\n",
    "## Probabilistic roadmap (prm) algorithm\n",
    "\n",
    " Mobile robotics simulation  toolbox\n",
    ""
   ]
  },
  {
   "cell_type": "code",
   "execution_count": 1,
   "metadata": {},
   "source": [
    " [wps, found] = computePath(tgtPose, curPose, occMat)"
   ],
   "outputs": []
  },
  {
   "cell_type": "markdown",
   "metadata": {},
   "source": [
    "\n",
    " This function takes three inputs: <samp>tgtPose</samp> (target position), <samp>curPose</samp> (current position), and <samp>occMat</samp> (occupancy matrix representing the environment). It returns <samp>wps</samp> (the waypoints that form the path) and <samp>found</samp> (a boolean indicating if the path was found).\n",
    ""
   ]
  },
  {
   "cell_type": "code",
   "execution_count": 2,
   "metadata": {},
   "source": [
    " coder.extrinsic('showPath')"
   ],
   "outputs": []
  },
  {
   "cell_type": "markdown",
   "metadata": {},
   "source": [
    "\n",
    "The <samp>coder.extrinsic</samp> command declares the <samp>showPath</samp> function as extrinsic, meaning it will be executed in MATLAB during simulation but not generated as C code. This is useful when visualizing the path in MATLAB.\n",
    ""
   ]
  },
  {
   "cell_type": "code",
   "execution_count": 3,
   "metadata": {},
   "source": [
    "persistent planner firstTime"
   ],
   "outputs": []
  },
  {
   "cell_type": "markdown",
   "metadata": {},
   "source": [
    "\n",
    "<samp>planner</samp> and <samp>firstTime</samp> are declared as persistent. Persistent variables retain their values between function calls. <samp>planner</samp> will store the PRM planner, and <samp>firstTime</samp> will track whether the planner has been initialized.\n",
    ""
   ]
  },
  {
   "cell_type": "code",
   "execution_count": 4,
   "metadata": {},
   "source": [
    "if isempty(planner)"
   ],
   "outputs": []
  },
  {
   "cell_type": "markdown",
   "metadata": {},
   "source": [
    "\n",
    "This checks if <samp>planner</samp> is empty\n",
    ""
   ]
  },
  {
   "cell_type": "code",
   "execution_count": 5,
   "metadata": {},
   "source": [
    "occMap = occupancyMap(occMat, 2);"
   ],
   "outputs": []
  },
  {
   "cell_type": "markdown",
   "metadata": {},
   "source": [
    "\n",
    " Creates an <samp>occupancyMap</samp> object from <samp>occMat</samp> with a resolution scaling factor of 2. The occupancy map is used by the planner to know where the obstacles are in the environment.\n",
    ""
   ]
  },
  {
   "cell_type": "code",
   "execution_count": 6,
   "metadata": {},
   "source": [
    "    planner = mobileRobotPRM(occMap);\n",
    "    planner.ConnectionDistance = prmConnectionDistance;\n",
    "    planner.NumNodes = prmNumNodes;"
   ],
   "outputs": []
  },
  {
   "cell_type": "markdown",
   "metadata": {},
   "source": [
    "\n",
    "Initializes a <samp>mobileRobotPRM</samp> object using the occupancy map.\n",
    ""
   ]
  },
  {
   "cell_type": "code",
   "execution_count": 7,
   "metadata": {},
   "source": [
    "    firstTime = true;"
   ],
   "outputs": []
  },
  {
   "cell_type": "markdown",
   "metadata": {},
   "source": [
    "\n",
    " Sets the <samp>firstTime</samp> flag to <samp>true</samp>, indicating that the planner has been initialized for the first time.\n",
    ""
   ]
  },
  {
   "cell_type": "code",
   "execution_count": 8,
   "metadata": {},
   "source": [
    "found = false;"
   ],
   "outputs": []
  },
  {
   "cell_type": "markdown",
   "metadata": {},
   "source": [
    "\n",
    "**Default Path Status)** Initializes the <samp>found</samp> variable to <samp>false</samp>, assuming no path is found until proven otherwise.\n",
    ""
   ]
  },
  {
   "cell_type": "code",
   "execution_count": 9,
   "metadata": {},
   "source": [
    "if (tgtPose(1) >= planner.Map.XWorldLimits(1)) && (tgtPose(1) <= planner.Map.XWorldLimits(2)) && ...\n",
    "        (tgtPose(2) >= planner.Map.YWorldLimits(1)) && (tgtPose(2) <= planner.Map.YWorldLimits(2)) && ...\n",
    "        (~checkOccupancy(planner.Map, [tgtPose(1) tgtPose(2)]))"
   ],
   "outputs": []
  },
  {
   "cell_type": "markdown",
   "metadata": {},
   "source": [
    "\n",
    "This checks whether the target pose is within the valid bounds of the map and is not occupied by an obstacle:\n",
    "\n",
    "-  It checks that <samp>tgtPose</samp> is within the <samp>XWorldLimits</samp> and <samp>YWorldLimits</samp> of the map.\n",
    "-  It also checks that the target position is not occupied (<samp>~checkOccupancy</samp>)."
   ]
  },
  {
   "cell_type": "code",
   "execution_count": 10,
   "metadata": {},
   "source": [
    "    if ~firstTime\n",
    "        planner.NumNodes = planner.NumNodes + prmNumNodes;\n",
    "    end"
   ],
   "outputs": []
  },
  {
   "cell_type": "markdown",
   "metadata": {},
   "source": [
    "\n",
    "If this is not the first time the planner is used and a path wasn't found before, the number of nodes in the PRM is increased to potentially improve the chances of finding a path.\n",
    ""
   ]
  },
  {
   "cell_type": "code",
   "execution_count": 11,
   "metadata": {},
   "source": [
    "    wps = findpath(planner, [curPose(1) curPose(2)], [tgtPose(1) tgtPose(2)]);\n",
    "    if ~isempty(wps)\n",
    "        found = true;\n",
    "        planner.NumNodes = prmNumNodes;\n",
    "        showPath(wps);\n",
    "    else\n",
    "        firstTime = false;\n",
    "    end"
   ],
   "outputs": []
  },
  {
   "cell_type": "markdown",
   "metadata": {},
   "source": [
    "\n",
    "**Pathfinding**:\n",
    "\n",
    "-   Uses the <samp>findpath</samp> method of the PRM planner to find a path between the current position and the target position. The result is stored in <samp>wps</samp>, which will contain the waypoints of the path if successful, or be empty if no path is found.\n",
    "\n",
    "**Path Validation**:\n",
    "\n",
    "-  If <samp>wps</samp> is not empty, a path has been found, so <samp>found</samp> is set to <samp>true</samp>.\n",
    "-  The number of nodes in the PRM is reset to its original value (<samp>prmNumNodes</samp>) in case it was increased earlier.\n",
    "-  The path is visualized using <samp>showPath</samp>.\n",
    "-  If no path is found (<samp>wps</samp> is empty), the <samp>firstTime</samp> flag is set to <samp>false</samp> so that the number of nodes can be increased on the next attempt."
   ]
  },
  {
   "cell_type": "code",
   "execution_count": 12,
   "metadata": {},
   "source": [
    "else\n",
    "    wps = [];\n",
    "end"
   ],
   "outputs": []
}
,
  {
   "cell_type": "markdown",
   "metadata": {},
   "source": [
    "\n",
    "If <samp>wps</samp> is not empty, a path has been found, so <samp>found</samp> is set to <samp>true</samp>.\n",
    "\n",
    "\n",
    "The number of nodes in the PRM is reset to its original value (<samp>prmNumNodes</samp>) in case it was increased earlier.\n",
    "\n",
    "\n",
    "The path is visualized using <samp>showPath</samp>.\n",
    "\n",
    "\n",
    "If no path is found (<samp>wps</samp> is empty), the <samp>firstTime</samp> flag is set to <samp>false</samp> so that the number of nodes can be increased on the next attempt.\n",
    "\n",
    ""
   ]
  }
 ],
 "metadata": {
  "kernelspec": {
   "display_name": "MATLAB (matlabkernel)",
   "language": "matlab",
   "name": "matlab"
  },
  "language_info": {
   "file_extension": ".m",
   "mimetype": "text/matlab",
   "name": "matlab",
   "nbconvert_exporter": "matlab",
   "pygments_lexer": "matlab",
   "version": "24.1.0.2537033"
  }
 },
 "nbformat": 4,
 "nbformat_minor": 4
}