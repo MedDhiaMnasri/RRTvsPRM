{
 "cells": [
  {
   "cell_type": "markdown",
   "metadata": {},
   "source": [
    "\n",
    "## Rapidly exploring Random Tree (RRT)"
   ]
  },
  {
   "cell_type": "code",
   "execution_count": 1,
   "metadata": {},
   "source": [
    "mapWidth = 100;\n",
    "mapHeight = 100;\n",
    "\n",
    "obstacles = [\n",
    "    20, 20, 10, 20;\n",
    "    50, 50, 15, 10;\n",
    "    30, 70, 20, 10;\n",
    "    60, 80, 10, 10;\n",
    "];\n",
    "\n",
    "start = [10, 10];\n",
    "goal = [90, 90];"
   ],
   "outputs": []
  },
  {
   "cell_type": "markdown",
   "metadata": {},
   "source": [
    "\n",
    "Setting up map dimensions, starting point, ending point(Goal) and obstacles.\n",
    ""
   ]
  },
  {
   "cell_type": "code",
   "execution_count": 2,
   "metadata": {},
   "source": [
    "figure;\n",
    "hold on;\n",
    "axis([0 mapWidth 0 mapHeight]);\n",
    "title('Map with Obstacles');\n",
    "xlabel('X');\n",
    "ylabel('Y');\n",
    "grid on;\n",
    "axis equal;\n",
    "\n",
    "for i = 1:size(obstacles, 1)\n",
    "    rectangle('Position', obstacles(i, :), 'FaceColor', [0.5 0.5 0.5]);\n",
    "end\n",
    "\n",
    "plot(start(1), start(2), 'go', 'MarkerSize', 10, 'LineWidth', 2);\n",
    "plot(goal(1), goal(2), 'ro', 'MarkerSize', 10, 'LineWidth', 2);"
   ],
   "outputs": []
  },
  {
   "cell_type": "markdown",
   "metadata": {},
   "source": [
    "\n",
    "Map visulation including obstacles\n",
    ""
   ]
  },
  {
   "cell_type": "code",
   "execution_count": 3,
   "metadata": {},
   "source": [
    "rrt_path_planner(start, goal, obstacles, mapWidth, mapHeight);\n",
    "\n",
    "function rrt_path_planner(start, goal, obstacles, mapWidth, mapHeight)\n",
    "    max_iter = 500;\n",
    "    step_size = 5;\n",
    "    goal_threshold = 5;\n",
    "\n",
    "    tree.nodes = start;\n",
    "    tree.parents = 0;"
   ],
   "outputs": []
  },
  {
   "cell_type": "markdown",
   "metadata": {},
   "source": [
    "\n",
    "-  **max\\_iter**: Maximum number of iterations for the RRT algorithm.\n",
    "-  **step\\_size**: The maximum distance the tree can extend towards a random point in each iteration.\n",
    "-  **goal\\_threshold**: The distance within which the goal is considered reached.\n",
    "-  **tree**: A structure that stores the nodes of the RRT and their parent nodes. It starts with the initial node (start position)."
   ]
  },
  {
   "cell_type": "code",
   "execution_count": 4,
   "metadata": {},
   "source": [
    "for iter = 1:max_iter\n",
    "    rand_point = [rand()*mapWidth, rand()*mapHeight];\n",
    "    [nearest_node, nearest_index] = find_nearest_node(tree, rand_point);\n",
    "    new_node = move_towards(nearest_node, rand_point, step_size);\n",
    "\n",
    "    if ~check_collision(nearest_node, new_node, obstacles)\n",
    "        tree.nodes = [tree.nodes; new_node];\n",
    "        tree.parents = [tree.parents; nearest_index];\n",
    "        plot([nearest_node(1), new_node(1)], [nearest_node(2), new_node(2)], 'b-');\n",
    "        drawnow;\n",
    "\n",
    "        if norm(new_node - goal) < goal_threshold\n",
    "            % Trace the path back to the start\n",
    "            path = [new_node];\n",
    "            while nearest_index ~= 0\n",
    "                path = [tree.nodes(nearest_index, :); path];\n",
    "                nearest_index = tree.parents(nearest_index);\n",
    "            end\n",
    "            path = [start; path];\n",
    "            plot(path(:,1), path(:,2), 'r-', 'LineWidth', 2);\n",
    "            disp('Goal reached!');\n",
    "            hold off;\n",
    "            return;\n",
    "        end\n",
    "    end\n",
    "end\n",
    "disp('Goal not reached within the maximum iterations.');\n",
    "hold off;"
   ],
   "outputs": []
  },
  {
   "cell_type": "markdown",
   "metadata": {},
   "source": [
    "\n",
    "-  **rand\\_point**: A random point generated within the map bounds.\n",
    "-  **find\\_nearest\\_node**: Finds the node in the tree that is closest to the random point.\n",
    "-  **move\\_towards**: Creates a new node by moving from the nearest node towards the random point, constrained by the step size.\n",
    "-  **check\\_collision**: Ensures that the new node doesn’t collide with any obstacles.\n",
    "-  **tree**: Updated with the new node if it’s valid (no collision).\n",
    "-  **plot**: Visualizes the path as the tree grows.\n",
    "-  **goal check**: If the new node is close enough to the goal, the path is traced back to the start and displayed."
   ]
  },
  {
   "cell_type": "code",
   "execution_count": 5,
   "metadata": {},
   "source": [
    "function [nearest_node, nearest_index] = find_nearest_node(tree, point)\n",
    "    distances = vecnorm(tree.nodes - point, 2, 2);\n",
    "    [~, nearest_index] = min(distances);\n",
    "    nearest_node = tree.nodes(nearest_index, :);\n",
    "end"
   ],
   "outputs": []
  },
  {
   "cell_type": "markdown",
   "metadata": {},
   "source": [
    "\n",
    "-  Calculates the Euclidean distance from each node in the tree to the random point.\n",
    "-  Returns the closest node (<samp>nearest_node</samp>) and its index in the tree (<samp>nearest_index</samp>)."
   ]
  },
  {
   "cell_type": "code",
   "execution_count": 6,
   "metadata": {},
   "source": [
    "function new_node = move_towards(nearest_node, rand_point, step_size)\n",
    "    direction = rand_point - nearest_node;\n",
    "    direction = direction / norm(direction);\n",
    "    new_node = nearest_node + step_size * direction;\n",
    "end"
   ],
   "outputs": []
  },
  {
   "cell_type": "markdown",
   "metadata": {},
   "source": [
    "\n",
    "-  **direction**: A unit vector pointing from the nearest node to the random point.\n",
    "-  **new\\_node**: A new node generated by moving from the nearest node towards the random point by a distance defined by <samp>step_size</samp>."
   ]
  },
  {
   "cell_type": "code",
   "execution_count": 7,
   "metadata": {},
   "source": [
    "function collision = check_collision(node1, node2, obstacles)\n",
    "    collision = false;\n",
    "    for i = 1:size(obstacles, 1)\n",
    "        if line_rect_intersection(node1, node2, obstacles(i, :))\n",
    "            collision = true;\n",
    "            break;\n",
    "        end\n",
    "    end\n",
    "end"
   ],
   "outputs": []
  },
  {
   "cell_type": "markdown",
   "metadata": {},
   "source": [
    "\n",
    "-  Checks if the line segment between two nodes intersects with any of the obstacles.\n",
    "-  **line\\_rect\\_intersection**: Determines whether a line segment intersects with a given rectangle (obstacle)."
   ]
  },
  {
   "cell_type": "code",
   "execution_count": 8,
   "metadata": {},
   "source": [
    "function intersect = line_rect_intersection(p1, p2, rect)\n",
    "    x1 = rect(1); y1 = rect(2); x2 = rect(1)+rect(3); y2 = rect(2)+rect(4);\n",
    "    if (line_segment_intersect(p1, p2, [x1 y1], [x2 y1]) || ...\n",
    "        line_segment_intersect(p1, p2, [x2 y1], [x2 y2]) || ...\n",
    "        line_segment_intersect(p1, p2, [x2 y2], [x1 y2]) || ...\n",
    "        line_segment_intersect(p1, p2, [x1 y2], [x1 y1]))\n",
    "        intersect = true;\n",
    "    end\n",
    "end"
   ],
   "outputs": []
  },
  {
   "cell_type": "markdown",
   "metadata": {},
   "source": [
    "\n",
    "-  This function checks if the line segment between two points (<samp>p1</samp> and <samp>p2</samp>) intersects with any side of the rectangle (<samp>rect</samp>).\n",
    "-  It checks for intersections with all four sides of the rectangle."
   ]
  },
  {
   "cell_type": "code",
   "execution_count": 9,
   "metadata": {},
   "source": [
    "function intersect = line_segment_intersect(p1, p2, q1, q2)\n",
    "    a1 = p2 - p1; a2 = q2 - q1;\n",
    "    cross_prod = a1(1) * a2(2) - a1(2) * a2(1);\n",
    "    if abs(cross_prod) < 1e-10\n",
    "        return;\n",
    "    end\n",
    "    t = ((q1(1) - p1(1)) * a2(2) - (q1(2) - p1(2)) * a2(1)) / cross_prod;\n",
    "    u = ((q1(1) - p1(1)) * a1(2) - (q1(2) - p1(2)) * a1(1)) / cross_prod;\n",
    "    if t >= 0 && t <= 1 && u >= 0 && u <= 1\n",
    "        intersect = true;\n",
    "    end\n",
    "end"
   ],
   "outputs": []
}
,
  {
   "cell_type": "markdown",
   "metadata": {},
   "source": [
    "\n",
    "-  Determines if two line segments intersect.\n",
    "-  Uses vector cross products to check for intersection within the bounds of the segments.\n",
    ""
   ]
  }
 ],
 "metadata": {
  "kernelspec": {
   "display_name": "MATLAB (matlabkernel)",
   "language": "matlab",
   "name": "matlab"
  },
  "language_info": {
   "file_extension": ".m",
   "mimetype": "text/matlab",
   "name": "matlab",
   "nbconvert_exporter": "matlab",
   "pygments_lexer": "matlab",
   "version": "24.1.0.2537033"
  }
 },
 "nbformat": 4,
 "nbformat_minor": 4
}